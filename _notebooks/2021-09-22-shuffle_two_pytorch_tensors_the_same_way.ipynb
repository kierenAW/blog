{
 "cells": [
  {
   "cell_type": "markdown",
   "id": "651330fc-fe4e-4adc-9b73-1e9ef274bbc5",
   "metadata": {},
   "source": [
    "# Shuffle Two PyTorch Tensors the Same Way"
   ]
  },
  {
   "cell_type": "markdown",
   "id": "cd4f7fa8-c380-4dea-a973-591bf5d79cfc",
   "metadata": {},
   "source": [
    "At times in Pytorch it might be useful to shuffle two separate tensors in the same way, with the result that the shuffled elements create two new tensors which maintain the pairing of elements between the tensors.  An example might be to shuffle a dataset and ensure the labels are still matched correctly after the shuffling."
   ]
  },
  {
   "cell_type": "markdown",
   "id": "e69b0479-4276-4642-a662-545c86ad5a15",
   "metadata": {},
   "source": [
    "## Import Torch\n",
    "\n",
    "We only need torch for this, it is possible to achieve this is a very similar way in numpy, but I prefer to use Pytorch for simplicity."
   ]
  },
  {
   "cell_type": "code",
   "execution_count": 1,
   "id": "3d8a0500-49d9-465a-8351-5afeed1c6df1",
   "metadata": {},
   "outputs": [],
   "source": [
    "import torch"
   ]
  },
  {
   "cell_type": "markdown",
   "id": "7091c01b-3936-4d48-b483-830911c42cf0",
   "metadata": {},
   "source": [
    "## Import Create Example Tensors\n",
    "\n",
    "Here we create two tensors one runs 0 to 9 and the second runs 9 to 0. "
   ]
  },
  {
   "cell_type": "code",
   "execution_count": 2,
   "id": "d97e1945-14f1-4545-ac45-ce9c58bc459b",
   "metadata": {},
   "outputs": [
    {
     "name": "stdout",
     "output_type": "stream",
     "text": [
      "tensor([0, 1, 2, 3, 4, 5, 6, 7, 8, 9])\n",
      "tensor([9, 8, 7, 6, 5, 4, 3, 2, 1, 0])\n"
     ]
    }
   ],
   "source": [
    "x = torch.arange(10)\n",
    "y = torch.arange(9, -1, -1)\n",
    "print(x)\n",
    "print(y)"
   ]
  },
  {
   "cell_type": "markdown",
   "id": "2dd02b00-82a6-4b70-b9d9-b1690386015a",
   "metadata": {},
   "source": [
    "These new tensor elements are tensors, and are paired as follows, the next steps will shuffle the position of these elements while maintaining their pairing.\n",
    "\n",
    "\n",
    "0->9, 1->8, 2->7, 3->6, 4->5, 5->4, 6->3, 7->2, 8->1, 9->0"
   ]
  },
  {
   "cell_type": "markdown",
   "id": "3641341e-015d-4b85-9c90-60550140f8f6",
   "metadata": {},
   "source": [
    "## Perform Shuffle \n",
    "\n",
    "Using the index and original tensors we now create two new shuffled tensors.\n",
    "\n",
    "If using numpy we can achieve the same thing using __np.arange(x.shape[0])__ then __np.random.shuffle(shuffle_index)__"
   ]
  },
  {
   "cell_type": "code",
   "execution_count": 3,
   "id": "a9361241-98b9-46cb-827e-9bd2537137f7",
   "metadata": {},
   "outputs": [
    {
     "data": {
      "text/plain": [
       "tensor([9, 3, 2, 8, 4, 5, 0, 7, 1, 6])"
      ]
     },
     "execution_count": 3,
     "metadata": {},
     "output_type": "execute_result"
    }
   ],
   "source": [
    "shuffle_index = torch.randperm(x.shape[0])\n",
    "shuffle_index"
   ]
  },
  {
   "cell_type": "markdown",
   "id": "1eb4646c-9390-4098-9e34-e3910f7aa317",
   "metadata": {},
   "source": [
    "## Perform Shuffle \n",
    "\n",
    "Using the index and original tensors we now create two new shuffled tensors."
   ]
  },
  {
   "cell_type": "code",
   "execution_count": 4,
   "id": "da6900e7-5ba6-44a0-b3eb-32889c682862",
   "metadata": {},
   "outputs": [
    {
     "name": "stdout",
     "output_type": "stream",
     "text": [
      "tensor([9, 3, 2, 8, 4, 5, 0, 7, 1, 6])\n",
      "tensor([0, 6, 7, 1, 5, 4, 9, 2, 8, 3])\n"
     ]
    }
   ],
   "source": [
    "x_new = x[shuffle_index]\n",
    "y_new = y[shuffle_index]\n",
    "print(x_new)\n",
    "print(y_new)"
   ]
  },
  {
   "cell_type": "markdown",
   "id": "164da51e-ba12-4d1c-a623-f79daad7c91e",
   "metadata": {},
   "source": [
    "## Final Thoughts\n",
    "\n",
    "The new output tensors  are now shuffled but shuffled in the same way maintaining the relationships of elements between them.\n",
    "\n",
    "\n",
    "Care should be taken if using multi-dimensional arrays to only shuffle the index not all the data (unless that is your intent)."
   ]
  },
  {
   "cell_type": "code",
   "execution_count": null,
   "id": "7393768f-a4c1-44f5-847a-e84fc2f25d7d",
   "metadata": {},
   "outputs": [],
   "source": []
  }
 ],
 "metadata": {
  "kernelspec": {
   "display_name": "Python 3",
   "language": "python",
   "name": "python3"
  },
  "language_info": {
   "codemirror_mode": {
    "name": "ipython",
    "version": 3
   },
   "file_extension": ".py",
   "mimetype": "text/x-python",
   "name": "python",
   "nbconvert_exporter": "python",
   "pygments_lexer": "ipython3",
   "version": "3.9.2"
  }
 },
 "nbformat": 4,
 "nbformat_minor": 5
}
