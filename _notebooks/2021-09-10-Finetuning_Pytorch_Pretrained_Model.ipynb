{
 "cells": [
  {
   "cell_type": "markdown",
   "id": "ea6eba10-4323-4d6a-81cd-e49a84a47277",
   "metadata": {},
   "source": [
    "# Introduction to Finetuning a Pytorch Pretrained Model using an Arbitrary Number of Classes\n",
    "\n",
    "In this post we are going to take a [Pytorch model](https://pytorch.org/vision/stable/models.html) that has been pre-trained on [Imagenet](https://image-net.org/) (with 100 classes) and fine tune it on a different dataset (CIFAR2) with a 2 classes.\n",
    "\n",
    "This post is aimed at those who are familiar with Jupyter, Python and Deep Learning concepts in general eg Tensorflow or FastAI users. If you are not already familiar with Deep Learning you may find [Practical Deep Learning for Coders](https://course.fast.ai) by Jeremy Howard and Sylvain Gugger to be an excellent introduction to both the [Fast AI library](https://www.fast.ai/) and to deep learning in general.\n",
    "\n",
    "While not included in this example; the use of a tracking system, such as the open source  [MLFlow](https://mlflow.org/), to log results during training and to store the resulting model would be best practice and provides many benefits over the print out methods demonstrated here. \n",
    "\n",
    "The training and dataset creation have been deliberately kept streamlined in order to show the concepts involved, in a real situation additional work would be needed to ensure reliability and robust functioning.\n"
   ]
  },
  {
   "cell_type": "markdown",
   "id": "4c8d7af5-c843-43ba-bd2d-c86c9a42d2b1",
   "metadata": {},
   "source": [
    "## Reproducing"
   ]
  },
  {
   "cell_type": "markdown",
   "id": "aa16121d-22b3-48e0-8c01-d04feb33df42",
   "metadata": {},
   "source": [
    "This code was tested on enviroment [E037](https://github.com/kierenAW/conda_environments_for_data_science) using Jupyter Lab"
   ]
  },
  {
   "cell_type": "markdown",
   "id": "c809f615-1ed8-43f9-b9b8-9a7df415ee29",
   "metadata": {},
   "source": [
    "## Import Pytorch Libraries"
   ]
  },
  {
   "cell_type": "code",
   "execution_count": 1,
   "id": "c29908a1-8852-4191-baa6-825acec3cde3",
   "metadata": {},
   "outputs": [],
   "source": [
    "import torch\n",
    "import torchvision as tv\n",
    "import numpy as np\n",
    "from PIL import Image\n",
    "from IPython.display import Image as IpyImg\n",
    "import matplotlib.pyplot as plt"
   ]
  },
  {
   "cell_type": "markdown",
   "id": "26b7c931-88f9-4001-bb1f-1e26f55b4e87",
   "metadata": {},
   "source": [
    "## Helper Function"
   ]
  },
  {
   "cell_type": "code",
   "execution_count": 2,
   "id": "01f9e2dc-9220-4e58-90bc-0af35d873500",
   "metadata": {
    "tags": []
   },
   "outputs": [],
   "source": [
    "def get_device():\n",
    "    \"\"\"Set as GPU if available, else set CPU\"\"\"\n",
    "    if torch.cuda.is_available():\n",
    "        return torch.device('cuda')\n",
    "    else:\n",
    "        return torch.device('cpu')\n"
   ]
  },
  {
   "cell_type": "markdown",
   "id": "08ee869c-2b4c-4671-946c-5ddba48ebbee",
   "metadata": {},
   "source": [
    "## Set Parameters\n",
    "We start by setting hyper-parameters first, using variables allows these to be easily updated later during hyper-parameter tuning. Later on we will instantiate the the PyTorch objects we need later using these variables."
   ]
  },
  {
   "cell_type": "markdown",
   "id": "5d531856-472a-4d1d-872b-7e207eb6e3a0",
   "metadata": {},
   "source": [
    "### Device\n",
    "PyTorch works well with Cuda for acceleration so if you have a compatible GPU and the correct NVIDIA drivers that support the version of Cuda matching the version of PyTorch; then the helper function will set the device to be <i>GPU</i> otherwise it will be <i>CPU</i>. "
   ]
  },
  {
   "cell_type": "code",
   "execution_count": 3,
   "id": "c310a908-b9c3-4f19-ade3-790db737122f",
   "metadata": {
    "tags": []
   },
   "outputs": [],
   "source": [
    "device = get_device()"
   ]
  },
  {
   "cell_type": "code",
   "execution_count": 4,
   "id": "d9285824-5ff9-459a-9bf8-e1a4b2219501",
   "metadata": {},
   "outputs": [
    {
     "data": {
      "text/plain": [
       "device(type='cuda')"
      ]
     },
     "execution_count": 4,
     "metadata": {},
     "output_type": "execute_result"
    }
   ],
   "source": [
    "device"
   ]
  },
  {
   "cell_type": "markdown",
   "id": "e2b1f58b-98ea-4d72-b692-c101f0d80c9b",
   "metadata": {},
   "source": [
    "### Model\n",
    "The model we will use for this task will be a [Resnet18](https://openaccess.thecvf.com/content_cvpr_2016/papers/He_Deep_Residual_Learning_CVPR_2016_paper.pdf) due to it's realtivly small size and good performance. This could be changed later as part of optimising, either by selecting a smaller model for cheaper training/inference or a larger model to improve accuracy."
   ]
  },
  {
   "cell_type": "code",
   "execution_count": 5,
   "id": "eb1c54c5-8a69-41d9-a3cd-d18149361482",
   "metadata": {
    "tags": []
   },
   "outputs": [],
   "source": [
    "model_name = 'resnet18'"
   ]
  },
  {
   "cell_type": "markdown",
   "id": "a4f51deb-f9c7-4c12-a152-249391c98fd1",
   "metadata": {},
   "source": [
    "### Learning Rate\n",
    "Next we will set a fairly small learning rate as we will be using a small batch size and, as the model is pretrained, we want to fine tune it for our problem. The Learning Rate will probably need adjusting to find an optimal point but, again, this can be optimised later."
   ]
  },
  {
   "cell_type": "code",
   "execution_count": 6,
   "id": "c92265c1-88f6-4ae3-8bc2-5ba8ea0221ba",
   "metadata": {
    "tags": []
   },
   "outputs": [],
   "source": [
    "learning_rate = 0.001"
   ]
  },
  {
   "cell_type": "markdown",
   "id": "81e970de-a5f8-41c8-bb05-6536735fc2fa",
   "metadata": {},
   "source": [
    "### Loss\n",
    "[CrossEntropyLoss](https://pytorch.org/docs/stable/generated/torch.nn.CrossEntropyLoss.html) will provide what we need for this binary classifcation task. The loss function can be changed to suit the situation however it is out of scope for this blog post."
   ]
  },
  {
   "cell_type": "code",
   "execution_count": 7,
   "id": "ea822850-e853-44f7-8a5e-94e2f1a78fdf",
   "metadata": {
    "tags": []
   },
   "outputs": [],
   "source": [
    "loss_name = 'CrossEntropyLoss'"
   ]
  },
  {
   "cell_type": "markdown",
   "id": "20f29c7c-d013-4bce-84fa-74d5a4f9889a",
   "metadata": {},
   "source": [
    "### Batch Size\n",
    "\n",
    "This task works well with very small batches which also makes the example suitable for use on GPU's with limited RAM"
   ]
  },
  {
   "cell_type": "code",
   "execution_count": 8,
   "id": "448bb4ec-d72d-49ab-a722-6ff0b3107476",
   "metadata": {
    "tags": []
   },
   "outputs": [],
   "source": [
    "batch_size = 4"
   ]
  },
  {
   "cell_type": "markdown",
   "id": "c78fd3ef-c0de-48ba-bf88-2e59b44ccc17",
   "metadata": {},
   "source": [
    "### Classes\n",
    "\n",
    "The dataset we will use will have 2 labels from cifar2 so we set this to match. In other tasks this number would simply be set to the desired number of output classes."
   ]
  },
  {
   "cell_type": "code",
   "execution_count": 9,
   "id": "7f725f4c-1df9-4a0f-8e74-c7d1679e1745",
   "metadata": {
    "tags": []
   },
   "outputs": [],
   "source": [
    "num_class = 2"
   ]
  },
  {
   "cell_type": "markdown",
   "id": "92acb04a-0bc8-4c5a-92bf-ce9fe21a08d5",
   "metadata": {},
   "source": [
    "## Set Epochs for Training the Model\n",
    "\n",
    "This is a realatively simple task for the pretrained model, we have selected 10 epochs so this should provide plenty of time to fine tune. This value would need to be tuned or the use of [Early Stoping](https://en.wikipedia.org/wiki/Early_stopping) might be useful but is outside the scope of this post."
   ]
  },
  {
   "cell_type": "code",
   "execution_count": 10,
   "id": "c658e85b-10be-4498-aa89-9e2c5fd66d57",
   "metadata": {},
   "outputs": [],
   "source": [
    "last_layer_epochs = 2\n",
    "all_layer_epochs = 15"
   ]
  },
  {
   "cell_type": "markdown",
   "id": "ac838079-0153-4dc2-bf2b-8981aa048387",
   "metadata": {
    "execution": {
     "iopub.execute_input": "2021-07-06T01:53:17.836212Z",
     "iopub.status.busy": "2021-07-06T01:53:17.835943Z",
     "iopub.status.idle": "2021-07-06T01:53:17.839261Z",
     "shell.execute_reply": "2021-07-06T01:53:17.838697Z",
     "shell.execute_reply.started": "2021-07-06T01:53:17.836180Z"
    }
   },
   "source": [
    "## Load Pretrained Model\n",
    "\n",
    "See [torchvision.models](https://pytorch.org/vision/stable/models.html) for details on model's and the PyTorch Modelk zoo.\n",
    "\n",
    "This method will work with ResNet architecture as the last layer is named 'fc', the code could be adapted to suit other model architectures by referencing the last named layer.\n",
    "\n",
    "First we load the pretrained model as-is and then modify it to suit our usecase."
   ]
  },
  {
   "cell_type": "code",
   "execution_count": 11,
   "id": "b0a8547f-5424-4555-ae1f-061e30384fdd",
   "metadata": {
    "tags": []
   },
   "outputs": [],
   "source": [
    "model = tv.models.__dict__[model_name](pretrained=True)"
   ]
  },
  {
   "cell_type": "markdown",
   "id": "87a9a83c-9330-4d77-ba94-e0ea1af440a4",
   "metadata": {},
   "source": [
    "## Review the Model\n",
    "\n",
    "Here we display the model so we can see how it is designed, this step is just for interest and can be disabled during training."
   ]
  },
  {
   "cell_type": "code",
   "execution_count": 12,
   "id": "498e6d5b-ea4a-4ad1-819d-0484f6cfb38b",
   "metadata": {
    "tags": []
   },
   "outputs": [
    {
     "data": {
      "text/plain": [
       "ResNet(\n",
       "  (conv1): Conv2d(3, 64, kernel_size=(7, 7), stride=(2, 2), padding=(3, 3), bias=False)\n",
       "  (bn1): BatchNorm2d(64, eps=1e-05, momentum=0.1, affine=True, track_running_stats=True)\n",
       "  (relu): ReLU(inplace=True)\n",
       "  (maxpool): MaxPool2d(kernel_size=3, stride=2, padding=1, dilation=1, ceil_mode=False)\n",
       "  (layer1): Sequential(\n",
       "    (0): BasicBlock(\n",
       "      (conv1): Conv2d(64, 64, kernel_size=(3, 3), stride=(1, 1), padding=(1, 1), bias=False)\n",
       "      (bn1): BatchNorm2d(64, eps=1e-05, momentum=0.1, affine=True, track_running_stats=True)\n",
       "      (relu): ReLU(inplace=True)\n",
       "      (conv2): Conv2d(64, 64, kernel_size=(3, 3), stride=(1, 1), padding=(1, 1), bias=False)\n",
       "      (bn2): BatchNorm2d(64, eps=1e-05, momentum=0.1, affine=True, track_running_stats=True)\n",
       "    )\n",
       "    (1): BasicBlock(\n",
       "      (conv1): Conv2d(64, 64, kernel_size=(3, 3), stride=(1, 1), padding=(1, 1), bias=False)\n",
       "      (bn1): BatchNorm2d(64, eps=1e-05, momentum=0.1, affine=True, track_running_stats=True)\n",
       "      (relu): ReLU(inplace=True)\n",
       "      (conv2): Conv2d(64, 64, kernel_size=(3, 3), stride=(1, 1), padding=(1, 1), bias=False)\n",
       "      (bn2): BatchNorm2d(64, eps=1e-05, momentum=0.1, affine=True, track_running_stats=True)\n",
       "    )\n",
       "  )\n",
       "  (layer2): Sequential(\n",
       "    (0): BasicBlock(\n",
       "      (conv1): Conv2d(64, 128, kernel_size=(3, 3), stride=(2, 2), padding=(1, 1), bias=False)\n",
       "      (bn1): BatchNorm2d(128, eps=1e-05, momentum=0.1, affine=True, track_running_stats=True)\n",
       "      (relu): ReLU(inplace=True)\n",
       "      (conv2): Conv2d(128, 128, kernel_size=(3, 3), stride=(1, 1), padding=(1, 1), bias=False)\n",
       "      (bn2): BatchNorm2d(128, eps=1e-05, momentum=0.1, affine=True, track_running_stats=True)\n",
       "      (downsample): Sequential(\n",
       "        (0): Conv2d(64, 128, kernel_size=(1, 1), stride=(2, 2), bias=False)\n",
       "        (1): BatchNorm2d(128, eps=1e-05, momentum=0.1, affine=True, track_running_stats=True)\n",
       "      )\n",
       "    )\n",
       "    (1): BasicBlock(\n",
       "      (conv1): Conv2d(128, 128, kernel_size=(3, 3), stride=(1, 1), padding=(1, 1), bias=False)\n",
       "      (bn1): BatchNorm2d(128, eps=1e-05, momentum=0.1, affine=True, track_running_stats=True)\n",
       "      (relu): ReLU(inplace=True)\n",
       "      (conv2): Conv2d(128, 128, kernel_size=(3, 3), stride=(1, 1), padding=(1, 1), bias=False)\n",
       "      (bn2): BatchNorm2d(128, eps=1e-05, momentum=0.1, affine=True, track_running_stats=True)\n",
       "    )\n",
       "  )\n",
       "  (layer3): Sequential(\n",
       "    (0): BasicBlock(\n",
       "      (conv1): Conv2d(128, 256, kernel_size=(3, 3), stride=(2, 2), padding=(1, 1), bias=False)\n",
       "      (bn1): BatchNorm2d(256, eps=1e-05, momentum=0.1, affine=True, track_running_stats=True)\n",
       "      (relu): ReLU(inplace=True)\n",
       "      (conv2): Conv2d(256, 256, kernel_size=(3, 3), stride=(1, 1), padding=(1, 1), bias=False)\n",
       "      (bn2): BatchNorm2d(256, eps=1e-05, momentum=0.1, affine=True, track_running_stats=True)\n",
       "      (downsample): Sequential(\n",
       "        (0): Conv2d(128, 256, kernel_size=(1, 1), stride=(2, 2), bias=False)\n",
       "        (1): BatchNorm2d(256, eps=1e-05, momentum=0.1, affine=True, track_running_stats=True)\n",
       "      )\n",
       "    )\n",
       "    (1): BasicBlock(\n",
       "      (conv1): Conv2d(256, 256, kernel_size=(3, 3), stride=(1, 1), padding=(1, 1), bias=False)\n",
       "      (bn1): BatchNorm2d(256, eps=1e-05, momentum=0.1, affine=True, track_running_stats=True)\n",
       "      (relu): ReLU(inplace=True)\n",
       "      (conv2): Conv2d(256, 256, kernel_size=(3, 3), stride=(1, 1), padding=(1, 1), bias=False)\n",
       "      (bn2): BatchNorm2d(256, eps=1e-05, momentum=0.1, affine=True, track_running_stats=True)\n",
       "    )\n",
       "  )\n",
       "  (layer4): Sequential(\n",
       "    (0): BasicBlock(\n",
       "      (conv1): Conv2d(256, 512, kernel_size=(3, 3), stride=(2, 2), padding=(1, 1), bias=False)\n",
       "      (bn1): BatchNorm2d(512, eps=1e-05, momentum=0.1, affine=True, track_running_stats=True)\n",
       "      (relu): ReLU(inplace=True)\n",
       "      (conv2): Conv2d(512, 512, kernel_size=(3, 3), stride=(1, 1), padding=(1, 1), bias=False)\n",
       "      (bn2): BatchNorm2d(512, eps=1e-05, momentum=0.1, affine=True, track_running_stats=True)\n",
       "      (downsample): Sequential(\n",
       "        (0): Conv2d(256, 512, kernel_size=(1, 1), stride=(2, 2), bias=False)\n",
       "        (1): BatchNorm2d(512, eps=1e-05, momentum=0.1, affine=True, track_running_stats=True)\n",
       "      )\n",
       "    )\n",
       "    (1): BasicBlock(\n",
       "      (conv1): Conv2d(512, 512, kernel_size=(3, 3), stride=(1, 1), padding=(1, 1), bias=False)\n",
       "      (bn1): BatchNorm2d(512, eps=1e-05, momentum=0.1, affine=True, track_running_stats=True)\n",
       "      (relu): ReLU(inplace=True)\n",
       "      (conv2): Conv2d(512, 512, kernel_size=(3, 3), stride=(1, 1), padding=(1, 1), bias=False)\n",
       "      (bn2): BatchNorm2d(512, eps=1e-05, momentum=0.1, affine=True, track_running_stats=True)\n",
       "    )\n",
       "  )\n",
       "  (avgpool): AdaptiveAvgPool2d(output_size=(1, 1))\n",
       "  (fc): Linear(in_features=512, out_features=1000, bias=True)\n",
       ")"
      ]
     },
     "execution_count": 12,
     "metadata": {},
     "output_type": "execute_result"
    }
   ],
   "source": [
    "model"
   ]
  },
  {
   "cell_type": "markdown",
   "id": "35b85111-66e4-4f49-a0d4-5c93de9cba0c",
   "metadata": {},
   "source": [
    "## Create New Output Layer\n",
    "\n",
    "We replace the single Linear output layer with a Sequential (sub)model that includes 2 linear layers seperated by a [ReLU](https://pytorch.org/docs/stable/generated/torch.nn.ReLU.html?highlight=relu#torch.nn.ReLU) then ending in a [softmax](https://pytorch.org/docs/stable/generated/torch.nn.functional.softmax.html?highlight=softmax) function.\n",
    "\n",
    "The last layer of this model is called 'fc' so we reference this layer by nameto replace it with our new output layers.\n",
    "\n",
    "More information is availalbe in the [Pytorch documentation](https://pytorch.org/tutorials/beginner/finetuning_torchvision_models_tutorial.html)"
   ]
  },
  {
   "cell_type": "code",
   "execution_count": 13,
   "id": "1fa8d5c6-c259-432b-b4c7-092a12589d2d",
   "metadata": {
    "tags": []
   },
   "outputs": [],
   "source": [
    "model.fc = torch.nn.Sequential(\n",
    "    torch.nn.Linear(in_features=512, out_features=512, bias=True),\n",
    "    torch.nn.ReLU(),\n",
    "    torch.nn.Linear(in_features=512, out_features=2, bias=True),\n",
    "    torch.nn.Softmax(dim = 1)\n",
    ")"
   ]
  },
  {
   "cell_type": "markdown",
   "id": "ec2549f2-f6e8-45b5-acab-206613289df0",
   "metadata": {},
   "source": [
    "## Look at the Updated Model\n",
    "\n",
    "Again, lets display the model but this time in its new state so we can see our changes, this step is just for interest and can be disabled during training."
   ]
  },
  {
   "cell_type": "code",
   "execution_count": 14,
   "id": "c98140ab-e492-4a76-8dbf-7b0ffa89eb5d",
   "metadata": {},
   "outputs": [
    {
     "data": {
      "text/plain": [
       "ResNet(\n",
       "  (conv1): Conv2d(3, 64, kernel_size=(7, 7), stride=(2, 2), padding=(3, 3), bias=False)\n",
       "  (bn1): BatchNorm2d(64, eps=1e-05, momentum=0.1, affine=True, track_running_stats=True)\n",
       "  (relu): ReLU(inplace=True)\n",
       "  (maxpool): MaxPool2d(kernel_size=3, stride=2, padding=1, dilation=1, ceil_mode=False)\n",
       "  (layer1): Sequential(\n",
       "    (0): BasicBlock(\n",
       "      (conv1): Conv2d(64, 64, kernel_size=(3, 3), stride=(1, 1), padding=(1, 1), bias=False)\n",
       "      (bn1): BatchNorm2d(64, eps=1e-05, momentum=0.1, affine=True, track_running_stats=True)\n",
       "      (relu): ReLU(inplace=True)\n",
       "      (conv2): Conv2d(64, 64, kernel_size=(3, 3), stride=(1, 1), padding=(1, 1), bias=False)\n",
       "      (bn2): BatchNorm2d(64, eps=1e-05, momentum=0.1, affine=True, track_running_stats=True)\n",
       "    )\n",
       "    (1): BasicBlock(\n",
       "      (conv1): Conv2d(64, 64, kernel_size=(3, 3), stride=(1, 1), padding=(1, 1), bias=False)\n",
       "      (bn1): BatchNorm2d(64, eps=1e-05, momentum=0.1, affine=True, track_running_stats=True)\n",
       "      (relu): ReLU(inplace=True)\n",
       "      (conv2): Conv2d(64, 64, kernel_size=(3, 3), stride=(1, 1), padding=(1, 1), bias=False)\n",
       "      (bn2): BatchNorm2d(64, eps=1e-05, momentum=0.1, affine=True, track_running_stats=True)\n",
       "    )\n",
       "  )\n",
       "  (layer2): Sequential(\n",
       "    (0): BasicBlock(\n",
       "      (conv1): Conv2d(64, 128, kernel_size=(3, 3), stride=(2, 2), padding=(1, 1), bias=False)\n",
       "      (bn1): BatchNorm2d(128, eps=1e-05, momentum=0.1, affine=True, track_running_stats=True)\n",
       "      (relu): ReLU(inplace=True)\n",
       "      (conv2): Conv2d(128, 128, kernel_size=(3, 3), stride=(1, 1), padding=(1, 1), bias=False)\n",
       "      (bn2): BatchNorm2d(128, eps=1e-05, momentum=0.1, affine=True, track_running_stats=True)\n",
       "      (downsample): Sequential(\n",
       "        (0): Conv2d(64, 128, kernel_size=(1, 1), stride=(2, 2), bias=False)\n",
       "        (1): BatchNorm2d(128, eps=1e-05, momentum=0.1, affine=True, track_running_stats=True)\n",
       "      )\n",
       "    )\n",
       "    (1): BasicBlock(\n",
       "      (conv1): Conv2d(128, 128, kernel_size=(3, 3), stride=(1, 1), padding=(1, 1), bias=False)\n",
       "      (bn1): BatchNorm2d(128, eps=1e-05, momentum=0.1, affine=True, track_running_stats=True)\n",
       "      (relu): ReLU(inplace=True)\n",
       "      (conv2): Conv2d(128, 128, kernel_size=(3, 3), stride=(1, 1), padding=(1, 1), bias=False)\n",
       "      (bn2): BatchNorm2d(128, eps=1e-05, momentum=0.1, affine=True, track_running_stats=True)\n",
       "    )\n",
       "  )\n",
       "  (layer3): Sequential(\n",
       "    (0): BasicBlock(\n",
       "      (conv1): Conv2d(128, 256, kernel_size=(3, 3), stride=(2, 2), padding=(1, 1), bias=False)\n",
       "      (bn1): BatchNorm2d(256, eps=1e-05, momentum=0.1, affine=True, track_running_stats=True)\n",
       "      (relu): ReLU(inplace=True)\n",
       "      (conv2): Conv2d(256, 256, kernel_size=(3, 3), stride=(1, 1), padding=(1, 1), bias=False)\n",
       "      (bn2): BatchNorm2d(256, eps=1e-05, momentum=0.1, affine=True, track_running_stats=True)\n",
       "      (downsample): Sequential(\n",
       "        (0): Conv2d(128, 256, kernel_size=(1, 1), stride=(2, 2), bias=False)\n",
       "        (1): BatchNorm2d(256, eps=1e-05, momentum=0.1, affine=True, track_running_stats=True)\n",
       "      )\n",
       "    )\n",
       "    (1): BasicBlock(\n",
       "      (conv1): Conv2d(256, 256, kernel_size=(3, 3), stride=(1, 1), padding=(1, 1), bias=False)\n",
       "      (bn1): BatchNorm2d(256, eps=1e-05, momentum=0.1, affine=True, track_running_stats=True)\n",
       "      (relu): ReLU(inplace=True)\n",
       "      (conv2): Conv2d(256, 256, kernel_size=(3, 3), stride=(1, 1), padding=(1, 1), bias=False)\n",
       "      (bn2): BatchNorm2d(256, eps=1e-05, momentum=0.1, affine=True, track_running_stats=True)\n",
       "    )\n",
       "  )\n",
       "  (layer4): Sequential(\n",
       "    (0): BasicBlock(\n",
       "      (conv1): Conv2d(256, 512, kernel_size=(3, 3), stride=(2, 2), padding=(1, 1), bias=False)\n",
       "      (bn1): BatchNorm2d(512, eps=1e-05, momentum=0.1, affine=True, track_running_stats=True)\n",
       "      (relu): ReLU(inplace=True)\n",
       "      (conv2): Conv2d(512, 512, kernel_size=(3, 3), stride=(1, 1), padding=(1, 1), bias=False)\n",
       "      (bn2): BatchNorm2d(512, eps=1e-05, momentum=0.1, affine=True, track_running_stats=True)\n",
       "      (downsample): Sequential(\n",
       "        (0): Conv2d(256, 512, kernel_size=(1, 1), stride=(2, 2), bias=False)\n",
       "        (1): BatchNorm2d(512, eps=1e-05, momentum=0.1, affine=True, track_running_stats=True)\n",
       "      )\n",
       "    )\n",
       "    (1): BasicBlock(\n",
       "      (conv1): Conv2d(512, 512, kernel_size=(3, 3), stride=(1, 1), padding=(1, 1), bias=False)\n",
       "      (bn1): BatchNorm2d(512, eps=1e-05, momentum=0.1, affine=True, track_running_stats=True)\n",
       "      (relu): ReLU(inplace=True)\n",
       "      (conv2): Conv2d(512, 512, kernel_size=(3, 3), stride=(1, 1), padding=(1, 1), bias=False)\n",
       "      (bn2): BatchNorm2d(512, eps=1e-05, momentum=0.1, affine=True, track_running_stats=True)\n",
       "    )\n",
       "  )\n",
       "  (avgpool): AdaptiveAvgPool2d(output_size=(1, 1))\n",
       "  (fc): Sequential(\n",
       "    (0): Linear(in_features=512, out_features=512, bias=True)\n",
       "    (1): ReLU()\n",
       "    (2): Linear(in_features=512, out_features=2, bias=True)\n",
       "    (3): Softmax(dim=1)\n",
       "  )\n",
       ")"
      ]
     },
     "execution_count": 14,
     "metadata": {},
     "output_type": "execute_result"
    }
   ],
   "source": [
    "model"
   ]
  },
  {
   "cell_type": "markdown",
   "id": "8c1cf5b6-a54f-496a-bc03-5ebc3501c794",
   "metadata": {},
   "source": [
    "## Send the Model to the Device in Use\n",
    "\n",
    "To ensure we use a GPU (if available) we need to send the model to the device set earlier, PyTorch allows this to be manually controlled which provides great flexibility."
   ]
  },
  {
   "cell_type": "code",
   "execution_count": 15,
   "id": "a7ba3b16-743f-4dd0-b2cf-f71c566f5b2e",
   "metadata": {
    "tags": []
   },
   "outputs": [],
   "source": [
    "model = model.to(device)"
   ]
  },
  {
   "cell_type": "markdown",
   "id": "9eff58ea-8cae-4e12-8b15-0d8ef45a90ca",
   "metadata": {},
   "source": [
    "## Setup the Loss Function\n",
    "A [criterion](https://www.merriam-webster.com/dictionary/criterion) or loss function object is created using a [Pytorch Loss Function](https://pytorch.org/docs/stable/nn.html#loss-functions) and the variables we defined earlier."
   ]
  },
  {
   "cell_type": "code",
   "execution_count": 16,
   "id": "a0300b86-f899-4b50-8ad3-327e81402973",
   "metadata": {
    "tags": []
   },
   "outputs": [],
   "source": [
    "loss_fn = torch.nn.__dict__[loss_name]()"
   ]
  },
  {
   "cell_type": "markdown",
   "id": "1ce70644-99a0-4ae0-aacc-38afad7fcc28",
   "metadata": {},
   "source": [
    "## Setup optimiser \n",
    "Using the [torch.optim](https://pytorch.org/docs/stable/optim.html) class we create an optimizer object with the value we defined earlier."
   ]
  },
  {
   "cell_type": "code",
   "execution_count": 17,
   "id": "005fc2f5-9393-4242-9c62-670fb0eb1b0f",
   "metadata": {
    "tags": []
   },
   "outputs": [],
   "source": [
    "optimizer = torch.optim.SGD(model.parameters(), lr=learning_rate, momentum=0.9)"
   ]
  },
  {
   "cell_type": "markdown",
   "id": "7ae6f0bf-bf19-4ceb-a2ca-3a2ae4fc640d",
   "metadata": {},
   "source": [
    "## Create the Transforms Object\n",
    "\n",
    "This is where datasets augmentation can be performed, in this example we won't be doing this but we do need to change the images to be a PyTorch tensor and normalise the data to match the image-net pre-training on the model we choose earlier."
   ]
  },
  {
   "cell_type": "code",
   "execution_count": 18,
   "id": "53b53e06-b6d6-4530-8a5a-b5080870a347",
   "metadata": {
    "tags": []
   },
   "outputs": [],
   "source": [
    "data_transforms = tv.transforms.Compose([\n",
    "    tv.transforms.ToTensor(),\n",
    "    tv.transforms.Normalize(mean=[0.485, 0.456, 0.406], std=[0.229, 0.224, 0.225]),\n",
    "])"
   ]
  },
  {
   "cell_type": "markdown",
   "id": "89fea38a-c451-4f82-8794-16b1404f1d8c",
   "metadata": {},
   "source": [
    "## Get a Dataset\n",
    "\n",
    "Torchvision has a range of image based [datasets](https://pytorch.org/vision/0.8/datasets.html) available to use, we will be crating CIFAR2 from [Cifar10](https://pytorch.org/vision/stable/datasets.html#cifar). PyTorch has built in methods to download and access the data using the <i>torchvision.datasets.CIFAR10</i> class and we will use this as an initial source for our data.\n",
    "\n",
    "CIFAR10 Has 10 balanced classes which are:\n",
    "\n",
    "0. Airplane\n",
    "0. Automobile\n",
    "0. Bird\n",
    "0. Cat\n",
    "0. Deer\n",
    "0. Dog\n",
    "0. Frog\n",
    "0. Horse\n",
    "0. Ship\n",
    "0. Truck\n",
    "\n",
    "In this example we will select the first two classes (Planes and Cars) and create a binary classifcation task. \n",
    "\n",
    "To load and feed data to the data loader PyTorch we extend the <i>torch.utils.data.Dataset</i> class and create the __\\_\\_len\\_\\___ and __\\_\\_getitem\\_\\___ methods to return each element of the dataset."
   ]
  },
  {
   "cell_type": "code",
   "execution_count": 19,
   "id": "0d6cfac6-6a1d-4024-bebc-c42e00b59c65",
   "metadata": {
    "tags": []
   },
   "outputs": [],
   "source": [
    "class cifar_bin_dataset(torch.utils.data.Dataset):\n",
    "\n",
    "    def __init__(self, train_set, data_transforms):\n",
    "        'Initialization'\n",
    "        \n",
    "        self.data_transform = data_transforms\n",
    "        \n",
    "        #Import the cifar10 data, we will be accessing this to get thje data we need\n",
    "        cifar10_dataset_obj = tv.datasets.CIFAR10(root='.', train=train_set, download=True)\n",
    "        \n",
    "        self.image_array = cifar10_dataset_obj.data\n",
    "        \n",
    "        self.number_class_targets = int(len(cifar10_dataset_obj.targets)/10) #Get the number of examples of each class\n",
    "        \n",
    "        plane_idx =  [i for i, value in enumerate(cifar10_dataset_obj.targets) if value == 0]\n",
    "        \n",
    "        car_idx = [i for i, value in enumerate(cifar10_dataset_obj.targets) if value == 1]\n",
    "        \n",
    "        self.idx_list = plane_idx + car_idx\n",
    "              \n",
    "        self.target_tensor = np.concatenate(\n",
    "         (np.zeros(self.number_class_targets),\n",
    "          np.ones(self.number_class_targets)),\n",
    "         axis=0\n",
    "        ).astype(np.float32)\n",
    "        \n",
    "    def __len__(self):\n",
    "        'Denotes the total number of samples'\n",
    "             \n",
    "        return len(self.idx_list)\n",
    "\n",
    "             \n",
    "    def __getitem__(self, index):\n",
    "        'Generates one sample of data'\n",
    "              \n",
    "        img = Image.fromarray(self.image_array[self.idx_list[index]]) #turn the np array into a PIL image to simulate  \n",
    "        \n",
    "        return  data_transforms(img), int(self.target_tensor[index])\n"
   ]
  },
  {
   "cell_type": "markdown",
   "id": "c2055323-675d-43f2-999c-9ace3a44a406",
   "metadata": {},
   "source": [
    "## Instantiate Dataset Class"
   ]
  },
  {
   "cell_type": "code",
   "execution_count": 20,
   "id": "30115875-4478-47ad-a672-7f7b523351c3",
   "metadata": {
    "tags": []
   },
   "outputs": [
    {
     "name": "stdout",
     "output_type": "stream",
     "text": [
      "Files already downloaded and verified\n",
      "Files already downloaded and verified\n"
     ]
    }
   ],
   "source": [
    "train_dataset = cifar_bin_dataset(True, data_transforms)\n",
    "val_dataset = cifar_bin_dataset(False, data_transforms)"
   ]
  },
  {
   "cell_type": "markdown",
   "id": "51a42daa-9412-4533-ab0a-5995b1c4d21d",
   "metadata": {},
   "source": [
    "## Review Dataset"
   ]
  },
  {
   "cell_type": "markdown",
   "id": "8f56152b-9df9-4828-a2ea-bdb24e5883d6",
   "metadata": {},
   "source": [
    "The exploration of data is a vital first step so here we create a function to print out the image and assocated label. \n",
    "\n",
    "The dataset can be accessed directly using the index from the __\\_\\_getitem_\\_\\___ methods we created in the \\_\\_cifar_bin_dataset_\\_\\_class\n",
    "\n",
    "We use [torchvision.transforms](https://pytorch.org/vision/stable/transforms.html) to change the Pytorch tensor into a [PIL](https://python-pillow.org/) object that can then be displayed using [IPython.display](https://ipython.readthedocs.io/en/stable/api/generated/IPython.display.html)  "
   ]
  },
  {
   "cell_type": "code",
   "execution_count": 21,
   "id": "33991e9b-5ea3-4139-a87e-6f42e938f2ed",
   "metadata": {
    "tags": []
   },
   "outputs": [
    {
     "name": "stdout",
     "output_type": "stream",
     "text": [
      "The train_dataset length is 10000 elements\n",
      "The val_dataset length is 2000 elements\n"
     ]
    }
   ],
   "source": [
    "print('The train_dataset length is', len(train_dataset), 'elements')\n",
    "print('The val_dataset length is', len(val_dataset), 'elements')"
   ]
  },
  {
   "cell_type": "markdown",
   "id": "ba01f10d-f6fd-4395-9930-2b21599b69da",
   "metadata": {},
   "source": [
    "### Define a Display Function\n",
    "\n",
    "This function will display a given index when provided with a dataset, it also resizes the images to be 100 x 100 pixels.\n"
   ]
  },
  {
   "cell_type": "code",
   "execution_count": 22,
   "id": "7c7e92c1-bb03-45cc-8002-b578b12702b0",
   "metadata": {},
   "outputs": [],
   "source": [
    "def display_image(dataset, idx):\n",
    "    display_transform = tv.transforms.Compose([tv.transforms.ToPILImage(),tv.transforms.Resize((100,100))])\n",
    "    class_lookup = {0 : 'plane', 1 : 'car'}\n",
    "    print(class_lookup[dataset[idx][1]])\n",
    "    display(display_transform(dataset[idx][0]))\n",
    "    print('-----------\\n')"
   ]
  },
  {
   "cell_type": "markdown",
   "id": "ed2bf0a5-293c-4751-a881-3ee229c51cb7",
   "metadata": {},
   "source": [
    "### Display Examples\n",
    "\n",
    "Loop through the training dataset displaying every 1000th image using the function we defined in a previous step.\n",
    "\n",
    "This allows us to see the The images in the form they will be in when passed to the model."
   ]
  },
  {
   "cell_type": "code",
   "execution_count": 23,
   "id": "937a4a35-1609-4d81-83d3-3a6dcfd78f40",
   "metadata": {},
   "outputs": [
    {
     "name": "stdout",
     "output_type": "stream",
     "text": [
      "plane\n"
     ]
    },
    {
     "data": {
      "image/png": "[encoded data removed]",
      "text/plain": [
       "<PIL.Image.Image image mode=RGB size=100x100 at 0x7F34683C96D0>"
      ]
     },
     "metadata": {},
     "output_type": "display_data"
    },
    {
     "name": "stdout",
     "output_type": "stream",
     "text": [
      "-----------\n",
      "\n",
      "plane\n"
     ]
    },
    {
     "data": {
      "image/png": "[encoded data removed]",
      "text/plain": [
       "<PIL.Image.Image image mode=RGB size=100x100 at 0x7F34683C97C0>"
      ]
     },
     "metadata": {},
     "output_type": "display_data"
    },
    {
     "name": "stdout",
     "output_type": "stream",
     "text": [
      "-----------\n",
      "\n",
      "plane\n"
     ]
    },
    {
     "data": {
      "image/png": "[encoded data removed]",
      "text/plain": [
       "<PIL.Image.Image image mode=RGB size=100x100 at 0x7F34683CB700>"
      ]
     },
     "metadata": {},
     "output_type": "display_data"
    },
    {
     "name": "stdout",
     "output_type": "stream",
     "text": [
      "-----------\n",
      "\n",
      "plane\n"
     ]
    },
    {
     "data": {
      "image/png": "[encoded data removed]",
      "text/plain": [
       "<PIL.Image.Image image mode=RGB size=100x100 at 0x7F34683CBA00>"
      ]
     },
     "metadata": {},
     "output_type": "display_data"
    },
    {
     "name": "stdout",
     "output_type": "stream",
     "text": [
      "-----------\n",
      "\n",
      "plane\n"
     ]
    },
    {
     "data": {
      "image/png": "[encoded data removed]",
      "text/plain": [
       "<PIL.Image.Image image mode=RGB size=100x100 at 0x7F34683CB700>"
      ]
     },
     "metadata": {},
     "output_type": "display_data"
    },
    {
     "name": "stdout",
     "output_type": "stream",
     "text": [
      "-----------\n",
      "\n",
      "car\n"
     ]
    },
    {
     "data": {
      "image/png": "[encoded data removed]",
      "text/plain": [
       "<PIL.Image.Image image mode=RGB size=100x100 at 0x7F34683CBA00>"
      ]
     },
     "metadata": {},
     "output_type": "display_data"
    },
    {
     "name": "stdout",
     "output_type": "stream",
     "text": [
      "-----------\n",
      "\n",
      "car\n"
     ]
    },
    {
     "data": {
      "image/png": "[encoded data removed]",
      "text/plain": [
       "<PIL.Image.Image image mode=RGB size=100x100 at 0x7F34683C96D0>"
      ]
     },
     "metadata": {},
     "output_type": "display_data"
    },
    {
     "name": "stdout",
     "output_type": "stream",
     "text": [
      "-----------\n",
      "\n",
      "car\n"
     ]
    },
    {
     "data": {
      "image/png": "[encoded data removed]",
      "text/plain": [
       "<PIL.Image.Image image mode=RGB size=100x100 at 0x7F34683C9910>"
      ]
     },
     "metadata": {},
     "output_type": "display_data"
    },
    {
     "name": "stdout",
     "output_type": "stream",
     "text": [
      "-----------\n",
      "\n",
      "car\n"
     ]
    },
    {
     "data": {
      "image/png": "[encoded data removed]",
      "text/plain": [
       "<PIL.Image.Image image mode=RGB size=100x100 at 0x7F34683C97C0>"
      ]
     },
     "metadata": {},
     "output_type": "display_data"
    },
    {
     "name": "stdout",
     "output_type": "stream",
     "text": [
      "-----------\n",
      "\n",
      "car\n"
     ]
    },
    {
     "data": {
      "image/png": "[encoded data removed]",
      "text/plain": [
       "<PIL.Image.Image image mode=RGB size=100x100 at 0x7F34683C96D0>"
      ]
     },
     "metadata": {},
     "output_type": "display_data"
    },
    {
     "name": "stdout",
     "output_type": "stream",
     "text": [
      "-----------\n",
      "\n"
     ]
    }
   ],
   "source": [
    "for idx in range (0, len(train_dataset),1000):\n",
    "    display_image(train_dataset, idx)"
   ]
  },
  {
   "cell_type": "markdown",
   "id": "840f2b45-419e-44c1-9fe9-3f846547707a",
   "metadata": {},
   "source": [
    "## Create Data Loader\n",
    "In Pytorch a Dataloader takes a <i>torch.utils.data.Dataset</i> object as an input along with hyper params such as batch size.\n",
    "\n",
    "\n",
    "\n",
    "The Number of workers (num_workers) is optimised depending on the hardware this is run on, generally optimal settings are slightly less than the number of threads available.\n",
    "\n",
    "[Pytorch Documentation](https://pytorch.org/docs/stable/data.html)"
   ]
  },
  {
   "cell_type": "code",
   "execution_count": 24,
   "id": "fcb5e73f-7d5d-4b99-82dd-ebf6ff6767b2",
   "metadata": {
    "tags": []
   },
   "outputs": [],
   "source": [
    "train_data_loader = torch.utils.data.DataLoader(train_dataset, batch_size=batch_size, shuffle=True, num_workers=12)\n",
    "val_data_loader = torch.utils.data.DataLoader(val_dataset, batch_size=batch_size, shuffle=True, num_workers=2)"
   ]
  },
  {
   "cell_type": "markdown",
   "id": "a9152892-09ca-4e84-a91e-5c93518f14ba",
   "metadata": {},
   "source": [
    "## Create Test Function\n",
    "\n",
    "This function receives a dataloader, model and loss function, then loops through the dataloader calculating loss and accuracy then returning the averages of these for the whole epoch.\n",
    "\n",
    "Calling __torch.no_grad()__ results in the gradients of the model not being recorded.\n",
    "\n",
    "__running_acc__ is updated with a calculation that rounds the second column of the prediction and compares that to the ground truth returning the percentage that were correct."
   ]
  },
  {
   "cell_type": "code",
   "execution_count": 25,
   "id": "dc8f03cb-5127-4349-b87d-89b583a4da29",
   "metadata": {},
   "outputs": [],
   "source": [
    "def test_single_epoch(device, dataloader, model, loss_fn):\n",
    "   \n",
    "    #zero accumulating values for los and acc\n",
    "    running_acc = 0.0\n",
    "    running_loss = 0.0\n",
    "    \n",
    "    #set model to  eval state\n",
    "    with torch.no_grad():\n",
    "\n",
    "        # Iterate over data and test\n",
    "        for batch, gnd_truth in dataloader:\n",
    "\n",
    "            #Send to gpu or cpu\n",
    "            batch, gnd_truth = batch.to(device), gnd_truth.to(device)\n",
    "\n",
    "            # forward\n",
    "            preds = model(batch)\n",
    "\n",
    "            #get loss\n",
    "            loss = loss_fn(preds, gnd_truth)\n",
    "\n",
    "            # update running loss and acc\n",
    "            running_acc += (torch.round(preds[:,1]).unsqueeze(1)  == gnd_truth.unsqueeze(1)).sum()/ gnd_truth.unsqueeze(1).shape[0]\n",
    "            running_loss += loss.item()\n",
    "            \n",
    "\n",
    "    return float(running_loss/len(dataloader)), float(running_acc/len(dataloader))"
   ]
  },
  {
   "cell_type": "markdown",
   "id": "29e69ae0-309f-46c7-9d9c-aa34e821eb80",
   "metadata": {},
   "source": [
    "## Create Train Function\n",
    "\n",
    "Training is very similar to the test function above with some key differences, we call __model.train()__ at the start so the model knows to collect gradients, we also need to clear the gradents at the start of each batch with  __optimizer.zero_grad()__ then after calculating the loss we call __loss.backward()__  to calculate the gradients for all of the parameters (tensors) in the model.\n",
    " \n",
    "Finaly we call __optimizer.step()__ to get the optimizer to iterate over all parameters (tensors) it is set to update, the stored gradents from the last steps are used."
   ]
  },
  {
   "cell_type": "code",
   "execution_count": 26,
   "id": "45c8ee3f-0666-4eca-bf39-78cd4427a13c",
   "metadata": {},
   "outputs": [],
   "source": [
    "def train_single_epoch(device, dataloader, model, loss_fn, optimizer):\n",
    "    \n",
    "    #zero accumulating values for los and acc\n",
    "    running_acc = 0.0\n",
    "    running_loss = 0.0\n",
    "    \n",
    "    #set model to train state\n",
    "    model.train()\n",
    "\n",
    "    # Iterate over data and train\n",
    "    for batch, gnd_truth in dataloader:\n",
    "        \n",
    "        #Send to gpu or cpu\n",
    "        batch, gnd_truth = batch.to(device), gnd_truth.to(device)\n",
    "        \n",
    "        # zero the parameter gradients\n",
    "        optimizer.zero_grad() \n",
    "        \n",
    "        # forward\n",
    "        preds = model(batch)\n",
    "        \n",
    "        #get loss\n",
    "        loss = loss_fn(preds, gnd_truth)\n",
    "        \n",
    "        #backward\n",
    "        loss.backward()\n",
    "        \n",
    "        #optimize\n",
    "        optimizer.step()\n",
    "\n",
    "        # update running loss and acc\n",
    "        running_acc += (torch.round(preds[:,1]).unsqueeze(1)  == gnd_truth.unsqueeze(1)).sum()/ gnd_truth.unsqueeze(1).shape[0]\n",
    "        running_loss += loss.item()\n",
    "\n",
    "        \n",
    "    return model, float(running_loss/len(dataloader)), float(running_acc/len(dataloader))"
   ]
  },
  {
   "cell_type": "markdown",
   "id": "913b31c2-1105-4dd2-a35b-937b65ee0c7b",
   "metadata": {},
   "source": [
    "## Run Validation Function to get a Baseline Before Training the Model\n",
    "\n",
    "The final layer is randomly initated so we would expect the outputs to be roughtly random or about the same as a coin flip or 50 %"
   ]
  },
  {
   "cell_type": "code",
   "execution_count": 27,
   "id": "b35e1f1b-edea-4da9-bc77-48d3d6f200bc",
   "metadata": {
    "tags": []
   },
   "outputs": [
    {
     "name": "stdout",
     "output_type": "stream",
     "text": [
      "val_loss: 0.6989\n",
      "val_acc: 0.4910\n"
     ]
    }
   ],
   "source": [
    "val_loss, val_acc = test_single_epoch(device, val_data_loader, model, loss_fn)\n",
    "print('val_loss: {:.4f}'.format(val_loss))\n",
    "print('val_acc: {:.4f}'.format(val_acc))"
   ]
  },
  {
   "cell_type": "markdown",
   "id": "8a8c96d1-2438-454f-806a-6d0ff4bfccb0",
   "metadata": {},
   "source": [
    "## Set Trainable Layers\n",
    "\n",
    "In order to be able to first train the new layers, then fine tune the whole model, we set the layers we are targeting to record gradents using __requires_grad = True__ and the layers we want to leave untouched to __requires_grad = False__. It also provides an opportunity to view the model in a different way."
   ]
  },
  {
   "cell_type": "code",
   "execution_count": 28,
   "id": "5f71445a-8bbe-478b-8f7d-31c900f18654",
   "metadata": {},
   "outputs": [
    {
     "name": "stdout",
     "output_type": "stream",
     "text": [
      "Won't train conv1.weight\n",
      "Won't train bn1.weight\n",
      "Won't train bn1.bias\n",
      "Won't train layer1.0.conv1.weight\n",
      "Won't train layer1.0.bn1.weight\n",
      "Won't train layer1.0.bn1.bias\n",
      "Won't train layer1.0.conv2.weight\n",
      "Won't train layer1.0.bn2.weight\n",
      "Won't train layer1.0.bn2.bias\n",
      "Won't train layer1.1.conv1.weight\n",
      "Won't train layer1.1.bn1.weight\n",
      "Won't train layer1.1.bn1.bias\n",
      "Won't train layer1.1.conv2.weight\n",
      "Won't train layer1.1.bn2.weight\n",
      "Won't train layer1.1.bn2.bias\n",
      "Won't train layer2.0.conv1.weight\n",
      "Won't train layer2.0.bn1.weight\n",
      "Won't train layer2.0.bn1.bias\n",
      "Won't train layer2.0.conv2.weight\n",
      "Won't train layer2.0.bn2.weight\n",
      "Won't train layer2.0.bn2.bias\n",
      "Won't train layer2.0.downsample.0.weight\n",
      "Won't train layer2.0.downsample.1.weight\n",
      "Won't train layer2.0.downsample.1.bias\n",
      "Won't train layer2.1.conv1.weight\n",
      "Won't train layer2.1.bn1.weight\n",
      "Won't train layer2.1.bn1.bias\n",
      "Won't train layer2.1.conv2.weight\n",
      "Won't train layer2.1.bn2.weight\n",
      "Won't train layer2.1.bn2.bias\n",
      "Won't train layer3.0.conv1.weight\n",
      "Won't train layer3.0.bn1.weight\n",
      "Won't train layer3.0.bn1.bias\n",
      "Won't train layer3.0.conv2.weight\n",
      "Won't train layer3.0.bn2.weight\n",
      "Won't train layer3.0.bn2.bias\n",
      "Won't train layer3.0.downsample.0.weight\n",
      "Won't train layer3.0.downsample.1.weight\n",
      "Won't train layer3.0.downsample.1.bias\n",
      "Won't train layer3.1.conv1.weight\n",
      "Won't train layer3.1.bn1.weight\n",
      "Won't train layer3.1.bn1.bias\n",
      "Won't train layer3.1.conv2.weight\n",
      "Won't train layer3.1.bn2.weight\n",
      "Won't train layer3.1.bn2.bias\n",
      "Won't train layer4.0.conv1.weight\n",
      "Won't train layer4.0.bn1.weight\n",
      "Won't train layer4.0.bn1.bias\n",
      "Won't train layer4.0.conv2.weight\n",
      "Won't train layer4.0.bn2.weight\n",
      "Won't train layer4.0.bn2.bias\n",
      "Won't train layer4.0.downsample.0.weight\n",
      "Won't train layer4.0.downsample.1.weight\n",
      "Won't train layer4.0.downsample.1.bias\n",
      "Won't train layer4.1.conv1.weight\n",
      "Won't train layer4.1.bn1.weight\n",
      "Won't train layer4.1.bn1.bias\n",
      "Won't train layer4.1.conv2.weight\n",
      "Won't train layer4.1.bn2.weight\n",
      "Won't train layer4.1.bn2.bias\n",
      "Will train fc.0.weight\n",
      "Will train fc.0.bias\n",
      "Will train fc.2.weight\n",
      "Will train fc.2.bias\n"
     ]
    }
   ],
   "source": [
    "for named_param in model.named_parameters():\n",
    "    if 'fc' in  named_param[0]:\n",
    "        print('Will train', named_param[0])\n",
    "        named_param[1].requires_grad = True\n",
    "    else:\n",
    "        print('Won\\'t train', named_param[0])  \n",
    "        named_param[1].requires_grad = False"
   ]
  },
  {
   "cell_type": "markdown",
   "id": "7ce94b63-34ca-4480-abb7-072c52a88950",
   "metadata": {
    "tags": []
   },
   "source": [
    "## Training and Validating\n",
    "\n",
    "The train loop runs the <i>Train</i> then <i>Validate</i> functions and collects the results. This example shows a fairly simple loop that collects the returns from the fuctions and stores them in arrays. The loss is also printed out every other epoch.\n",
    "\n",
    "This is the part when we can define actions taken between epochs including saving checkpoints of the model or using [MLFlow](https://mlflow.org/) to log [metrics](https://mlflow.org/docs/latest/python_api/mlflow.html#mlflow.log_metric) from the epoch.\n",
    "\n",
    "As we aren't using a tool to track the course of the training, we will first setup some arrays to track the model performance and metrics over the course of the training."
   ]
  },
  {
   "cell_type": "code",
   "execution_count": 29,
   "id": "1402aee2-3a47-430b-9842-0ed90573981a",
   "metadata": {
    "tags": []
   },
   "outputs": [],
   "source": [
    "train_acc_hist = []\n",
    "train_loss_hist = []\n",
    "val_acc_hist = []\n",
    "val_loss_hist = []"
   ]
  },
  {
   "cell_type": "markdown",
   "id": "7dcdbd4b-84ff-4073-91f8-e2e6ce94a702",
   "metadata": {},
   "source": [
    "### Model Performance Review\n",
    "Before we do any training we pass the Train and Validation datasets through the testing function to get a baseline so we can see how much of an improvement we make."
   ]
  },
  {
   "cell_type": "code",
   "execution_count": 30,
   "id": "e17326fd-30f3-4722-ad5d-ecb456054f03",
   "metadata": {
    "tags": []
   },
   "outputs": [
    {
     "name": "stdout",
     "output_type": "stream",
     "text": [
      "Inital Model State\n",
      "train_loss: 0.7027\n",
      "val_loss: 0.7028\n",
      "train_acc: 0.4667\n",
      "val_acc: 0.4720\n"
     ]
    }
   ],
   "source": [
    "train_loss, train_acc = test_single_epoch(device, train_data_loader, model, loss_fn)\n",
    "train_acc_hist.append(train_acc)\n",
    "train_loss_hist.append(train_loss)\n",
    "\n",
    "val_loss, val_acc = test_single_epoch(device, val_data_loader, model, loss_fn)\n",
    "val_acc_hist.append(val_acc) #append results to the array we are using for tracking \n",
    "val_loss_hist.append(val_loss) #append results to the array we are using for tracking \n",
    "\n",
    "#\n",
    "print('Inital Model State')\n",
    "print('train_loss: {:.4f}'.format(train_loss))\n",
    "print('val_loss: {:.4f}'.format(val_loss))\n",
    "print('train_acc: {:.4f}'.format(train_acc))\n",
    "print('val_acc: {:.4f}'.format(val_acc))"
   ]
  },
  {
   "cell_type": "markdown",
   "id": "f726b041-facf-4c5d-a53a-cc9632a6aaf7",
   "metadata": {
    "execution": {
     "iopub.execute_input": "2021-09-07T06:29:51.653308Z",
     "iopub.status.busy": "2021-09-07T06:29:51.653089Z",
     "iopub.status.idle": "2021-09-07T06:32:41.750027Z",
     "shell.execute_reply": "2021-09-07T06:32:41.749311Z",
     "shell.execute_reply.started": "2021-09-07T06:29:51.653282Z"
    },
    "tags": []
   },
   "source": [
    "### Train New Layers\n",
    "First we start off by training just the new layers we added to the end of the model, the rest of the layers are already trained so we want to start with just the new ones. This only needs a few of epochs before we start to see reasonable accuracy, we will use 6 for this example."
   ]
  },
  {
   "cell_type": "code",
   "execution_count": 31,
   "id": "5e0d7aff-f106-4a36-8024-165184b8b1dc",
   "metadata": {
    "tags": []
   },
   "outputs": [
    {
     "name": "stdout",
     "output_type": "stream",
     "text": [
      "------------------------------------------------------------------------\n",
      "starting training for 2 epochs \n",
      "------------------------------------------------------------------------\n",
      "finished training for epoch 1\n",
      "train_loss: 0.5542\n",
      "val_loss: 0.5555\n",
      "train_acc: 0.7437\n",
      "val_acc: 0.7380\n",
      "------------------------------------------------------------------------\n",
      "finished training for epoch 2\n",
      "train_loss: 0.5320\n",
      "val_loss: 0.5337\n",
      "train_acc: 0.7639\n",
      "val_acc: 0.7680\n",
      "------------------------------------------------------------------------\n"
     ]
    }
   ],
   "source": [
    "print('------------------------------------------------------------------------')\n",
    "print('starting training for {} epochs '.format(last_layer_epochs))\n",
    "print('------------------------------------------------------------------------')\n",
    "\n",
    "for epoch in range(1, last_layer_epochs + 1):  # loop over the dataset multiple times\n",
    "    \n",
    "    model, train_loss, train_acc = train_single_epoch(device, train_data_loader, model, loss_fn, optimizer)\n",
    "    train_acc_hist.append(train_acc) #append results to the array we are using for tracking \n",
    "    train_loss_hist.append(train_loss) #append results to the array we are using for tracking \n",
    "    \n",
    "    val_loss, val_acc = test_single_epoch(device, val_data_loader, model, loss_fn)\n",
    "    val_acc_hist.append(val_acc) #append results to the array we are using for tracking \n",
    "    val_loss_hist.append(val_loss) #append results to the array we are using for tracking \n",
    "    \n",
    "    #Print out every epoch\n",
    "    print('finished training for epoch {}'.format(epoch))\n",
    "    print('train_loss: {:.4f}'.format(train_loss))\n",
    "    print('val_loss: {:.4f}'.format(val_loss))\n",
    "    print('train_acc: {:.4f}'.format(train_acc))\n",
    "    print('val_acc: {:.4f}'.format(val_acc))\n",
    "    print('------------------------------------------------------------------------')"
   ]
  },
  {
   "cell_type": "markdown",
   "id": "49ec26fb-588c-4e8e-b6aa-cf7edff7ec6b",
   "metadata": {},
   "source": [
    "### Check Model Performance\n",
    "Again we have a look at the performance of the model against the train and val datasets. No training is perfomed in this step."
   ]
  },
  {
   "cell_type": "code",
   "execution_count": 32,
   "id": "c1e43185-3f41-445a-adc0-698d6df14642",
   "metadata": {
    "tags": []
   },
   "outputs": [
    {
     "name": "stdout",
     "output_type": "stream",
     "text": [
      "Current Model State\n",
      "train_loss: 0.5203\n",
      "Val dataset loss: 0.5146\n",
      "train_acc: 0.7824\n",
      "Val dataset acc: 0.7865\n"
     ]
    }
   ],
   "source": [
    "train_loss, train_acc = test_single_epoch(device, train_data_loader, model, loss_fn)\n",
    "train_acc_hist.append(train_acc)\n",
    "train_loss_hist.append(train_loss)\n",
    "\n",
    "val_loss, val_acc = test_single_epoch(device, val_data_loader, model, loss_fn)\n",
    "val_acc_hist.append(val_acc)\n",
    "val_loss_hist.append(val_loss)\n",
    "print('Current Model State')\n",
    "print('train_loss: {:.4f}'.format(train_loss))\n",
    "print('Val dataset loss: {:.4f}'.format(val_loss))\n",
    "print('train_acc: {:.4f}'.format(train_acc))\n",
    "print('Val dataset acc: {:.4f}'.format(val_acc))"
   ]
  },
  {
   "cell_type": "markdown",
   "id": "c2de8964-f85d-477b-8315-4fc1da2bc656",
   "metadata": {},
   "source": [
    "### Set Trainable Layers\n",
    "\n",
    "Now that we have trained the new layers we can start to finetune the entire model, we set all layers to __.requires_grad = True__"
   ]
  },
  {
   "cell_type": "code",
   "execution_count": 33,
   "id": "a8cf431d-cc56-4519-b30d-be9352eda70c",
   "metadata": {},
   "outputs": [],
   "source": [
    "for named_param in model.named_parameters():\n",
    "    named_param[1].requires_grad = True"
   ]
  },
  {
   "cell_type": "markdown",
   "id": "3e06d718-6702-4bb3-8537-bd506293c14a",
   "metadata": {},
   "source": [
    "### Train All Layers\n",
    "\n",
    "Next we run a training loop to train all the layers, in this example the train process is spread out across several loops. In a real example this would likely be incorporated into a class or function to call as required."
   ]
  },
  {
   "cell_type": "code",
   "execution_count": 34,
   "id": "d4acecf8-e356-44d4-a5f6-f7a14aa38fb5",
   "metadata": {},
   "outputs": [
    {
     "name": "stdout",
     "output_type": "stream",
     "text": [
      "------------------------------------------------------------------------\n",
      "starting training for 15 epochs \n",
      "------------------------------------------------------------------------\n",
      "finished training for epoch 3\n",
      "train_loss: 0.4464\n",
      "val_loss: 0.4307\n",
      "train_acc: 0.8636\n",
      "val_acc: 0.8825\n",
      "------------------------------------------------------------------------\n",
      "\n",
      "\n",
      "finished training for epoch 6\n",
      "train_loss: 0.4023\n",
      "val_loss: 0.3960\n",
      "train_acc: 0.9082\n",
      "val_acc: 0.9165\n",
      "------------------------------------------------------------------------\n",
      "\n",
      "\n",
      "finished training for epoch 9\n",
      "train_loss: 0.3918\n",
      "val_loss: 0.3997\n",
      "train_acc: 0.9200\n",
      "val_acc: 0.9125\n",
      "------------------------------------------------------------------------\n",
      "\n",
      "\n",
      "finished training for epoch 12\n",
      "train_loss: 0.3797\n",
      "val_loss: 0.3925\n",
      "train_acc: 0.9335\n",
      "val_acc: 0.9210\n",
      "------------------------------------------------------------------------\n",
      "\n",
      "\n",
      "finished training for epoch 15\n",
      "train_loss: 0.3962\n",
      "val_loss: 0.4051\n",
      "train_acc: 0.9150\n",
      "val_acc: 0.9045\n",
      "------------------------------------------------------------------------\n",
      "\n",
      "\n"
     ]
    }
   ],
   "source": [
    "print('------------------------------------------------------------------------')\n",
    "print('starting training for {} epochs '.format(all_layer_epochs))\n",
    "print('------------------------------------------------------------------------')\n",
    "\n",
    "for epoch in range(1, all_layer_epochs + 1):  # loop over the dataset multiple times\n",
    "    \n",
    "    model, train_loss, train_acc = train_single_epoch(device, train_data_loader, model, loss_fn, optimizer)\n",
    "    train_acc_hist.append(train_acc) #append results to the array we are using for tracking \n",
    "    train_loss_hist.append(train_loss) #append results to the array we are using for tracking \n",
    "    \n",
    "    val_loss, val_acc = test_single_epoch(device, val_data_loader, model, loss_fn)\n",
    "    val_acc_hist.append(val_acc) #append results to the array we are using for tracking \n",
    "    val_loss_hist.append(val_loss) #append results to the array we are using for tracking \n",
    "    \n",
    "    if (epoch % 3) == 0: #Print out every third epoch \n",
    "        print('finished training for epoch {}'.format(epoch))\n",
    "        print('train_loss: {:.4f}'.format(train_loss))\n",
    "        print('val_loss: {:.4f}'.format(val_loss))\n",
    "        print('train_acc: {:.4f}'.format(train_acc))\n",
    "        print('val_acc: {:.4f}'.format(val_acc))\n",
    "        print('------------------------------------------------------------------------\\n\\n')"
   ]
  },
  {
   "cell_type": "markdown",
   "id": "50a42f51-a908-4381-82bf-791966ddb8f4",
   "metadata": {},
   "source": [
    "### Final Model Performance Review\n",
    "Now we run a final test of the train and validation datsets to see the end result of our training."
   ]
  },
  {
   "cell_type": "code",
   "execution_count": 35,
   "id": "b5744a28-b612-4415-8693-4f38fe0e3b3d",
   "metadata": {},
   "outputs": [
    {
     "name": "stdout",
     "output_type": "stream",
     "text": [
      "Final Model State\n",
      "Train  dataset loss: 0.4023\n",
      "Val dataset loss: 0.3999\n",
      "Train  dataset acc: 0.9097\n",
      "Val dataset acc: 0.9120\n"
     ]
    }
   ],
   "source": [
    "train_loss, train_acc = test_single_epoch(device, train_data_loader, model, loss_fn)\n",
    "train_acc_hist.append(train_acc)\n",
    "train_loss_hist.append(train_loss)\n",
    "\n",
    "val_loss, val_acc = test_single_epoch(device, val_data_loader, model, loss_fn)\n",
    "val_acc_hist.append(val_acc)\n",
    "val_loss_hist.append(val_loss)\n",
    "print('Final Model State')\n",
    "print('Train  dataset loss: {:.4f}'.format(train_loss))\n",
    "print('Val dataset loss: {:.4f}'.format(val_loss))\n",
    "print('Train  dataset acc: {:.4f}'.format(train_acc))\n",
    "print('Val dataset acc: {:.4f}'.format(val_acc))"
   ]
  },
  {
   "cell_type": "markdown",
   "id": "63ba7075-1884-44b0-93a3-2647bcf945e2",
   "metadata": {},
   "source": [
    "## Review Loss over the Epochs"
   ]
  },
  {
   "cell_type": "code",
   "execution_count": 36,
   "id": "9573e0a0-b8a9-4b24-bd9d-95da2920f4d6",
   "metadata": {},
   "outputs": [
    {
     "data": {
      "text/plain": [
       "<matplotlib.legend.Legend at 0x7f349f326cd0>"
      ]
     },
     "execution_count": 36,
     "metadata": {},
     "output_type": "execute_result"
    },
    {
     "data": {
      "image/png": "[encoded data removed]",
      "text/plain": [
       "<Figure size 432x288 with 1 Axes>"
      ]
     },
     "metadata": {
      "needs_background": "light"
     },
     "output_type": "display_data"
    }
   ],
   "source": [
    "train_loss_plt, = plt.plot(train_loss_hist)\n",
    "val_loss_plt, = plt.plot(val_loss_hist)\n",
    "plt.title(\"Loss Vs Epoch\")\n",
    "plt.legend([train_loss_plt, val_loss_plt], ['Train Loss History', 'Test Loss History'])"
   ]
  },
  {
   "cell_type": "markdown",
   "id": "4918a317-50cc-4616-bf23-7458a5f1379c",
   "metadata": {},
   "source": [
    "## Review Accuracy over the Epochs"
   ]
  },
  {
   "cell_type": "code",
   "execution_count": 37,
   "id": "7cd14f0e-233c-467c-982b-9b5c92a34d74",
   "metadata": {
    "tags": []
   },
   "outputs": [
    {
     "data": {
      "text/plain": [
       "<matplotlib.legend.Legend at 0x7f349fb2ba00>"
      ]
     },
     "execution_count": 37,
     "metadata": {},
     "output_type": "execute_result"
    },
    {
     "data": {
      "image/png": "[encoded data removed]",
      "text/plain": [
       "<Figure size 432x288 with 1 Axes>"
      ]
     },
     "metadata": {
      "needs_background": "light"
     },
     "output_type": "display_data"
    }
   ],
   "source": [
    "train_acc_hist_plt, = plt.plot(train_acc_hist)\n",
    "val_acc_hist_plt, = plt.plot(val_acc_hist)\n",
    "plt.title(\"Accuracy Vs Epoch\")\n",
    "plt.legend([train_acc_hist_plt, val_acc_hist_plt], ['Train Acc History', 'Test Acc History'])"
   ]
  },
  {
   "cell_type": "markdown",
   "id": "3c608b3a-0169-4f85-8f1c-dd4c44506f45",
   "metadata": {},
   "source": [
    "## Final thoughts"
   ]
  },
  {
   "cell_type": "markdown",
   "id": "d8e00fdd-f94d-4329-8f06-fe0ec6d819fc",
   "metadata": {},
   "source": [
    "We can see from these charts that the accuracy improves from about random at the start (which is to be expected as the last layers where randomly initialised) to about 78% after training the new layers then to over 90% after fine-tuning the whole model.\n",
    "\n",
    "This model could be further optimised, specifically things like the batch size, learning rate, model selection and design of the output layers to suit specific tasks."
   ]
  },
  {
   "cell_type": "code",
   "execution_count": null,
   "id": "8ec04456-57ef-492c-9dcd-70d2b3edfecb",
   "metadata": {},
   "outputs": [],
   "source": []
  }
 ],
 "metadata": {
  "kernelspec": {
   "display_name": "Python 3",
   "language": "python",
   "name": "python3"
  },
  "language_info": {
   "codemirror_mode": {
    "name": "ipython",
    "version": 3
   },
   "file_extension": ".py",
   "mimetype": "text/x-python",
   "name": "python",
   "nbconvert_exporter": "python",
   "pygments_lexer": "ipython3",
   "version": "3.9.2"
  }
 },
 "nbformat": 4,
 "nbformat_minor": 5
}
