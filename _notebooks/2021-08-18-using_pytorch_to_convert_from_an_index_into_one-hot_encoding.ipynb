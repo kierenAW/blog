{
 "cells": [
  {
   "cell_type": "markdown",
   "id": "98d64bbe-88bc-45f5-9617-5109c02de507",
   "metadata": {},
   "source": [
    "# Changing Index into One-Hot Encoding with Pytorch"
   ]
  },
  {
   "cell_type": "markdown",
   "id": "0530f306-d7e3-4f83-9c2a-4e63946d84ec",
   "metadata": {},
   "source": [
    "In this post we cover how to use [torch.nn.functional](https://pytorch.org/docs/stable/nn.functional.html) to encode a integer label (eg 1,4,6) into a on-hot tensor (eg. [0,1,0,0,0])\n",
    "\n",
    "## Why Use One-Hot Encoder\n",
    "\n",
    "In many classification tasks the use of [one-hot encoding](https://en.wikipedia.org/wiki/One-hot) of labels is needed by some loss functions, this is especially true when there is more than 2 classes.\n",
    "\n",
    "The benefit of one-hot encoding is that the neural network can have an output neuron for each class, when a [Softmax](https://pytorch.org/docs/stable/generated/torch.nn.Softmax.html) is applied just before the output results in an output tensor where all values add up to 1.0 and this is often read as likelihood.\n",
    "\n",
    "## Example\n",
    "An example could be classes <i>cat</i>, <i>dog</i>, <i>cow</i> and a photo of a <i>cow</i> might result in an output tensor that looks like this [.05, 0.5, .90] therefore we might describe this as having 5% likelihood of being <i>cat</i> or <i>dog</i> and 90% of being a <i>cow</i>.\n",
    "\n",
    "The ground truth tensor for this case might look like [0, 0, 1] and the tensor of the difference between the predictions and ground truth could be described as [.05, .05, .1]\n",
    "\n",
    "## Reproducing \n",
    "This code was created and tested using [Environment E037](https://github.com/kierenAW/conda_environments_for_data_science)"
   ]
  },
  {
   "cell_type": "markdown",
   "id": "818e4604-6aca-4149-86d3-8aed87ce3ce6",
   "metadata": {},
   "source": [
    "## Imports\n",
    "\n",
    "We will only need torch to be imported for this example"
   ]
  },
  {
   "cell_type": "code",
   "execution_count": 1,
   "id": "89b3222b-95f6-4a96-b47f-47e5a9206156",
   "metadata": {
    "execution": {
     "iopub.execute_input": "2021-08-18T02:40:17.127600Z",
     "iopub.status.busy": "2021-08-18T02:40:17.127364Z",
     "iopub.status.idle": "2021-08-18T02:40:17.594456Z",
     "shell.execute_reply": "2021-08-18T02:40:17.593930Z",
     "shell.execute_reply.started": "2021-08-18T02:40:17.127533Z"
    },
    "tags": []
   },
   "outputs": [],
   "source": [
    "import torch"
   ]
  },
  {
   "cell_type": "markdown",
   "id": "32be2dd3-0627-42bf-a33e-f0ca7e2bb089",
   "metadata": {},
   "source": [
    "## Example function\n",
    "\n",
    "We use torch’s random function to create a tensor of the chosen length while randomly setting the class to the selected number indexing from zero."
   ]
  },
  {
   "cell_type": "code",
   "execution_count": 2,
   "id": "f9270e58-c946-4352-aef7-7da08293bc97",
   "metadata": {
    "execution": {
     "iopub.execute_input": "2021-08-18T02:40:17.595549Z",
     "iopub.status.busy": "2021-08-18T02:40:17.595427Z",
     "iopub.status.idle": "2021-08-18T02:40:17.598843Z",
     "shell.execute_reply": "2021-08-18T02:40:17.598368Z",
     "shell.execute_reply.started": "2021-08-18T02:40:17.595532Z"
    },
    "tags": []
   },
   "outputs": [],
   "source": [
    "def one_hot_encode_demo(num_classes = 2, idx_len = 10):\n",
    "    \n",
    "    print('Randomly generating index.....\\n')\n",
    "    idx = torch.Tensor(idx_len).random_(0, num_classes)\n",
    "    \n",
    "    print('The index is now', idx)\n",
    "    \n",
    "    print('\\nCreating one-hot encoded tensor....')\n",
    "    one_hot = torch.nn.functional.one_hot(idx.to(torch.int64), num_classes)\n",
    "    \n",
    "    print('\\nThe one-hot encoded index is now:')\n",
    "    print(one_hot)"
   ]
  },
  {
   "cell_type": "markdown",
   "id": "06adfb86-6c49-407f-b33a-1ed7b070d861",
   "metadata": {
    "execution": {
     "iopub.execute_input": "2021-08-18T02:28:11.727717Z",
     "iopub.status.busy": "2021-08-18T02:28:11.727467Z",
     "iopub.status.idle": "2021-08-18T02:28:11.730776Z",
     "shell.execute_reply": "2021-08-18T02:28:11.730044Z",
     "shell.execute_reply.started": "2021-08-18T02:28:11.727689Z"
    }
   },
   "source": [
    "## Display Some Examples"
   ]
  },
  {
   "cell_type": "markdown",
   "id": "1100321e-b633-4912-b023-7c50739f3329",
   "metadata": {},
   "source": [
    "Now we create a very simple example with 2 classes to demonstrate the basic concept "
   ]
  },
  {
   "cell_type": "code",
   "execution_count": 3,
   "id": "c27904d2-2aea-4cd3-bd90-49ac6b4da105",
   "metadata": {
    "execution": {
     "iopub.execute_input": "2021-08-18T02:40:17.599552Z",
     "iopub.status.busy": "2021-08-18T02:40:17.599439Z",
     "iopub.status.idle": "2021-08-18T02:40:17.611888Z",
     "shell.execute_reply": "2021-08-18T02:40:17.611272Z",
     "shell.execute_reply.started": "2021-08-18T02:40:17.599536Z"
    },
    "tags": []
   },
   "outputs": [
    {
     "name": "stdout",
     "output_type": "stream",
     "text": [
      "Randomly generating index.....\n",
      "\n",
      "The index is now tensor([0., 1., 1., 0., 0., 0., 0., 1., 0., 0.])\n",
      "\n",
      "Creating one-hot encoded tensor....\n",
      "\n",
      "The one-hot encoded index is now:\n",
      "tensor([[1, 0],\n",
      "        [0, 1],\n",
      "        [0, 1],\n",
      "        [1, 0],\n",
      "        [1, 0],\n",
      "        [1, 0],\n",
      "        [1, 0],\n",
      "        [0, 1],\n",
      "        [1, 0],\n",
      "        [1, 0]])\n"
     ]
    }
   ],
   "source": [
    "one_hot_encode_demo(num_classes = 2)"
   ]
  },
  {
   "cell_type": "markdown",
   "id": "714243db-034b-4ddb-960e-f4e7f6dedc99",
   "metadata": {},
   "source": [
    "Now we create a more complex example with 10 classes"
   ]
  },
  {
   "cell_type": "code",
   "execution_count": 4,
   "id": "8b3870c9-cb44-44f6-a743-4da87b77b7b2",
   "metadata": {
    "execution": {
     "iopub.execute_input": "2021-08-18T02:40:17.613008Z",
     "iopub.status.busy": "2021-08-18T02:40:17.612811Z",
     "iopub.status.idle": "2021-08-18T02:40:17.618151Z",
     "shell.execute_reply": "2021-08-18T02:40:17.617702Z",
     "shell.execute_reply.started": "2021-08-18T02:40:17.612981Z"
    },
    "tags": []
   },
   "outputs": [
    {
     "name": "stdout",
     "output_type": "stream",
     "text": [
      "Randomly generating index.....\n",
      "\n",
      "The index is now tensor([9., 9., 9., 8., 4., 8., 2., 3., 3., 5.])\n",
      "\n",
      "Creating one-hot encoded tensor....\n",
      "\n",
      "The one-hot encoded index is now:\n",
      "tensor([[0, 0, 0, 0, 0, 0, 0, 0, 0, 1],\n",
      "        [0, 0, 0, 0, 0, 0, 0, 0, 0, 1],\n",
      "        [0, 0, 0, 0, 0, 0, 0, 0, 0, 1],\n",
      "        [0, 0, 0, 0, 0, 0, 0, 0, 1, 0],\n",
      "        [0, 0, 0, 0, 1, 0, 0, 0, 0, 0],\n",
      "        [0, 0, 0, 0, 0, 0, 0, 0, 1, 0],\n",
      "        [0, 0, 1, 0, 0, 0, 0, 0, 0, 0],\n",
      "        [0, 0, 0, 1, 0, 0, 0, 0, 0, 0],\n",
      "        [0, 0, 0, 1, 0, 0, 0, 0, 0, 0],\n",
      "        [0, 0, 0, 0, 0, 1, 0, 0, 0, 0]])\n"
     ]
    }
   ],
   "source": [
    "one_hot_encode_demo(num_classes = 10)"
   ]
  },
  {
   "cell_type": "markdown",
   "id": "397ffa29-866b-4251-93ce-f9006d1d0be5",
   "metadata": {},
   "source": [
    "As a final example we create a tensor of 3 classes and a length of 25"
   ]
  },
  {
   "cell_type": "code",
   "execution_count": 5,
   "id": "100b70f7-e777-4d12-b84d-3ef7faf3d4c5",
   "metadata": {
    "execution": {
     "iopub.execute_input": "2021-08-18T02:40:17.619045Z",
     "iopub.status.busy": "2021-08-18T02:40:17.618805Z",
     "iopub.status.idle": "2021-08-18T02:40:17.624483Z",
     "shell.execute_reply": "2021-08-18T02:40:17.624005Z",
     "shell.execute_reply.started": "2021-08-18T02:40:17.619025Z"
    },
    "tags": []
   },
   "outputs": [
    {
     "name": "stdout",
     "output_type": "stream",
     "text": [
      "Randomly generating index.....\n",
      "\n",
      "The index is now tensor([1., 0., 0., 1., 0., 1., 2., 2., 2., 0., 1., 1., 1., 2., 2., 1., 2., 0.,\n",
      "        0., 1., 0., 2., 2., 0., 0.])\n",
      "\n",
      "Creating one-hot encoded tensor....\n",
      "\n",
      "The one-hot encoded index is now:\n",
      "tensor([[0, 1, 0],\n",
      "        [1, 0, 0],\n",
      "        [1, 0, 0],\n",
      "        [0, 1, 0],\n",
      "        [1, 0, 0],\n",
      "        [0, 1, 0],\n",
      "        [0, 0, 1],\n",
      "        [0, 0, 1],\n",
      "        [0, 0, 1],\n",
      "        [1, 0, 0],\n",
      "        [0, 1, 0],\n",
      "        [0, 1, 0],\n",
      "        [0, 1, 0],\n",
      "        [0, 0, 1],\n",
      "        [0, 0, 1],\n",
      "        [0, 1, 0],\n",
      "        [0, 0, 1],\n",
      "        [1, 0, 0],\n",
      "        [1, 0, 0],\n",
      "        [0, 1, 0],\n",
      "        [1, 0, 0],\n",
      "        [0, 0, 1],\n",
      "        [0, 0, 1],\n",
      "        [1, 0, 0],\n",
      "        [1, 0, 0]])\n"
     ]
    }
   ],
   "source": [
    "one_hot_encode_demo(num_classes = 3, idx_len = 25)"
   ]
  },
  {
   "cell_type": "code",
   "execution_count": null,
   "id": "77c55910-c88e-4e4c-b85b-f4ebeac30725",
   "metadata": {},
   "outputs": [],
   "source": []
  }
 ],
 "metadata": {
  "kernelspec": {
   "display_name": "Python 3",
   "language": "python",
   "name": "python3"
  },
  "language_info": {
   "codemirror_mode": {
    "name": "ipython",
    "version": 3
   },
   "file_extension": ".py",
   "mimetype": "text/x-python",
   "name": "python",
   "nbconvert_exporter": "python",
   "pygments_lexer": "ipython3",
   "version": "3.9.4"
  }
 },
 "nbformat": 4,
 "nbformat_minor": 5
}
